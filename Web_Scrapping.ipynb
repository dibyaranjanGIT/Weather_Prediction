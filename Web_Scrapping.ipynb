{
 "cells": [
  {
   "cell_type": "code",
   "execution_count": 1,
   "metadata": {},
   "outputs": [],
   "source": [
    "import os\n",
    "import time\n",
    "import requests\n",
    "import datetime\n",
    "import sys"
   ]
  },
  {
   "cell_type": "code",
   "execution_count": 2,
   "metadata": {},
   "outputs": [],
   "source": [
    "month_names = []\n",
    "for i in range(1,13):\n",
    "    res = datetime.date(2015, i,1).strftime('%B')\n",
    "    res = res.lower()\n",
    "    month_names.append(res)"
   ]
  },
  {
   "cell_type": "code",
   "execution_count": 3,
   "metadata": {},
   "outputs": [
    {
     "data": {
      "text/plain": [
       "['january',\n",
       " 'february',\n",
       " 'march',\n",
       " 'april',\n",
       " 'may',\n",
       " 'june',\n",
       " 'july',\n",
       " 'august',\n",
       " 'september',\n",
       " 'october',\n",
       " 'november',\n",
       " 'december']"
      ]
     },
     "execution_count": 3,
     "metadata": {},
     "output_type": "execute_result"
    }
   ],
   "source": [
    "month_names"
   ]
  },
  {
   "cell_type": "code",
   "execution_count": 5,
   "metadata": {},
   "outputs": [
    {
     "name": "stdout",
     "output_type": "stream",
     "text": [
      "['December', '14', '2020']\n"
     ]
    }
   ],
   "source": [
    "from datetime import date\n",
    "today = date.today()\n",
    "day = today.strftime(\"%B %d %Y\")\n",
    "current_date = day.split()\n",
    "print(current_date)"
   ]
  },
  {
   "cell_type": "code",
   "execution_count": 4,
   "metadata": {},
   "outputs": [
    {
     "data": {
      "text/plain": [
       "'2020'"
      ]
     },
     "execution_count": 4,
     "metadata": {},
     "output_type": "execute_result"
    }
   ],
   "source": [
    "current_date[2]"
   ]
  },
  {
   "cell_type": "code",
   "execution_count": 5,
   "metadata": {},
   "outputs": [],
   "source": [
    "import os"
   ]
  },
  {
   "cell_type": "code",
   "execution_count": 6,
   "metadata": {},
   "outputs": [],
   "source": [
    "os.mkdir('hello')"
   ]
  },
  {
   "cell_type": "code",
   "execution_count": 9,
   "metadata": {},
   "outputs": [
    {
     "name": "stdout",
     "output_type": "stream",
     "text": [
      "Data is being retrived\n",
      "Time taken is 445.81327199935913\n"
     ]
    }
   ],
   "source": [
    "def retrive_html(year):\n",
    "    \n",
    "    for i,mon in enumerate(month_names):\n",
    "            \n",
    "        if not os.path.exists(\"Data/HTML_Data/{}/{}\".format(year,mon)):\n",
    "            os.mkdir(\"Data/HTML_Data/{}/{}\".format(year,mon))\n",
    "                \n",
    "        if month_names[i]=='february':\n",
    "            for day in range(1,29):\n",
    "                if mon==current_date[0].lower() and str(day) == current_date[1]:\n",
    "                    break\n",
    "                else:\n",
    "                    url = 'https://en.tutiempo.net/records/vecc/{}-{}-{}.html'.format(day,mon,year)\n",
    "                    \n",
    "                texts = requests.get(url)\n",
    "                text_utf=texts.text.encode('utf=8')\n",
    "        \n",
    "                with open(\"Data/HTML_Data/{}/{}/{}.html\".format(year,mon,day),'wb') as output:\n",
    "                    output.write(text_utf)\n",
    "                \n",
    "        elif month_names[i] in (\"april\", \"june\", \"september\", \"november\"):\n",
    "            for day in range(1,31):\n",
    "                if mon==current_date[0].lower() and str(day) == current_date[1]:\n",
    "                    break\n",
    "                else:\n",
    "                    url = 'https://en.tutiempo.net/records/vecc/{}-{}-{}.html'.format(day,mon,year)\n",
    "                    \n",
    "                texts = requests.get(url)\n",
    "                text_utf=texts.text.encode('utf=8')\n",
    "        \n",
    "                with open(\"Data/HTML_Data/{}/{}/{}.html\".format(year,mon,day),'wb') as output:\n",
    "                    output.write(text_utf)\n",
    "                \n",
    "        else:\n",
    "            for day in range(1,32):\n",
    "                if mon==current_date[0].lower() and str(day) == current_date[1]:\n",
    "                    break\n",
    "                else:\n",
    "                    url = 'https://en.tutiempo.net/records/vecc/{}-{}-{}.html'.format(day,mon,year)\n",
    "                    \n",
    "                texts = requests.get(url)\n",
    "                text_utf=texts.text.encode('utf=8')\n",
    "        \n",
    "                with open(\"Data/HTML_Data/{}/{}/{}.html\".format(year,mon,day),'wb') as output:\n",
    "                    output.write(text_utf)\n",
    "           \n",
    "        \n",
    "        sys.stdout.flush( )\n",
    "        \n",
    "if __name__ ==\"__main__\":\n",
    "    start_time = time.time()\n",
    "    retrive_html(2020)\n",
    "    end_time = time.time()\n",
    "    print('Data is being retrived')\n",
    "    print(\"Time taken is {}\".format(end_time-start_time))"
   ]
  },
  {
   "cell_type": "code",
   "execution_count": 9,
   "metadata": {},
   "outputs": [
    {
     "data": {
      "text/plain": [
       "['january',\n",
       " 'february',\n",
       " 'march',\n",
       " 'april',\n",
       " 'may',\n",
       " 'june',\n",
       " 'july',\n",
       " 'august',\n",
       " 'september',\n",
       " 'october',\n",
       " 'november',\n",
       " 'december']"
      ]
     },
     "execution_count": 9,
     "metadata": {},
     "output_type": "execute_result"
    }
   ],
   "source": [
    "month_names = ['december']"
   ]
  },
  {
   "cell_type": "code",
   "execution_count": null,
   "metadata": {},
   "outputs": [],
   "source": []
  },
  {
   "cell_type": "code",
   "execution_count": null,
   "metadata": {},
   "outputs": [],
   "source": []
  }
 ],
 "metadata": {
  "kernelspec": {
   "display_name": "machinelearn",
   "language": "python",
   "name": "machinelearn"
  },
  "language_info": {
   "codemirror_mode": {
    "name": "ipython",
    "version": 3
   },
   "file_extension": ".py",
   "mimetype": "text/x-python",
   "name": "python",
   "nbconvert_exporter": "python",
   "pygments_lexer": "ipython3",
   "version": "3.7.0"
  }
 },
 "nbformat": 4,
 "nbformat_minor": 4
}
