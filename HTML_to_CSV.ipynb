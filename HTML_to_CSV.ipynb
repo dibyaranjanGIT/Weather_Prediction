{
 "cells": [
  {
   "cell_type": "code",
   "execution_count": 1,
   "metadata": {},
   "outputs": [],
   "source": [
    "import pandas as pd\n",
    "import numpy as np\n",
    "import matplotlib.pyplot as plt"
   ]
  },
  {
   "cell_type": "code",
   "execution_count": 2,
   "metadata": {},
   "outputs": [],
   "source": [
    "import os\n",
    "import time\n",
    "import requests\n",
    "import datetime\n",
    "import sys\n"
   ]
  },
  {
   "cell_type": "code",
   "execution_count": 3,
   "metadata": {},
   "outputs": [],
   "source": [
    "import csv\n",
    "from bs4 import BeautifulSoup"
   ]
  },
  {
   "cell_type": "code",
   "execution_count": 4,
   "metadata": {},
   "outputs": [],
   "source": [
    "month_names = []\n",
    "for i in range(1,13):\n",
    "    res = datetime.date(2015, i,1).strftime('%B')\n",
    "    res = res.lower()\n",
    "    month_names.append(res)"
   ]
  },
  {
   "cell_type": "code",
   "execution_count": 5,
   "metadata": {},
   "outputs": [
    {
     "name": "stdout",
     "output_type": "stream",
     "text": [
      "['December', '18', '2020']\n"
     ]
    }
   ],
   "source": [
    "from datetime import date\n",
    "today = date.today()\n",
    "day = today.strftime(\"%B %d %Y\")\n",
    "current_date = day.split()\n",
    "print(current_date)"
   ]
  },
  {
   "cell_type": "code",
   "execution_count": 6,
   "metadata": {},
   "outputs": [
    {
     "data": {
      "text/plain": [
       "18"
      ]
     },
     "execution_count": 6,
     "metadata": {},
     "output_type": "execute_result"
    }
   ],
   "source": [
    "int(current_date[1])"
   ]
  },
  {
   "cell_type": "code",
   "execution_count": 7,
   "metadata": {},
   "outputs": [
    {
     "data": {
      "text/plain": [
       "['january',\n",
       " 'february',\n",
       " 'march',\n",
       " 'april',\n",
       " 'may',\n",
       " 'june',\n",
       " 'july',\n",
       " 'august',\n",
       " 'september',\n",
       " 'october',\n",
       " 'november',\n",
       " 'december']"
      ]
     },
     "execution_count": 7,
     "metadata": {},
     "output_type": "execute_result"
    }
   ],
   "source": [
    "month_names"
   ]
  },
  {
   "cell_type": "code",
   "execution_count": 63,
   "metadata": {},
   "outputs": [],
   "source": [
    "def html_to_csv(year):\n",
    "    df = pd.DataFrame() \n",
    "    import re\n",
    "    for i,mon in enumerate(month_names):\n",
    "        records = []\n",
    "        try:\n",
    "            if not os.path.exists(\"Data/HTML_Data/{}/{}\".format(year,mon)):\n",
    "                print('The directory exist')\n",
    "        except:\n",
    "            print('The directory does not exist')\n",
    "        else:\n",
    "            if month_names[i]=='february':\n",
    "                if month_names[i]==current_date[0].lower():\n",
    "                    \n",
    "                    for day in range(1,int(current_date[1])):\n",
    "                        file_html = open(\"Data/HTML_Data/{}/{}/{}.html\".format(year,mon,day),encoding='utf-8') \n",
    "                        plain_text = file_html.read()\n",
    "                        soup= BeautifulSoup(plain_text,\"lxml\")\n",
    "                        tables = soup.find_all(\"table\")\n",
    "                        my_tables = tables[1]\n",
    "                        rows = my_tables.find_all(['th', 'tr'])\n",
    "                        \n",
    "                        for row in rows:\n",
    "                            date_filter = soup.select(\".ndia\")\n",
    "                            date_filter = str(date_filter)\n",
    "                            start = re.search(\">\", date_filter).start()+1\n",
    "                            end = -6\n",
    "                            cells = row.findChildren('td')\n",
    "                            for cell in cells:\n",
    "                                value = cell.string\n",
    "                                #print(value)\n",
    "                                records.append(value)\n",
    "                        \n",
    "                        date = date_filter[start:end]  \n",
    "                        chunks = [records[x:x+6] for x in range(0, len(records), 6)]\n",
    "                        \n",
    "                        for i in range(len(chunks)):\n",
    "                            col_date = str(date)+':'+chunks[i][0]\n",
    "                            chunks[i][0] = col_date\n",
    "                            \n",
    "                        data=pd.DataFrame(chunks)\n",
    "                        df = df.append(data)\n",
    "                else:\n",
    "                    \n",
    "                    for day in range(1,29):\n",
    "                        file_html = open(\"Data/HTML_Data/{}/{}/{}.html\".format(year,mon,day),encoding='utf-8') \n",
    "                        plain_text = file_html.read()\n",
    "                        soup= BeautifulSoup(plain_text,\"lxml\")\n",
    "                        tables = soup.find_all(\"table\")\n",
    "                        my_tables = tables[1]\n",
    "                        rows = my_tables.find_all(['th', 'tr'])\n",
    "                        \n",
    "                        for row in rows:\n",
    "                            date_filter = soup.select(\".ndia\")\n",
    "                            date_filter = str(date_filter)\n",
    "                            start = re.search(\">\", date_filter).start()+1\n",
    "                            end = -6\n",
    "                            cells = row.findChildren('td')\n",
    "                            for cell in cells:\n",
    "                                value = cell.string\n",
    "                                #print(value)\n",
    "                                records.append(value)\n",
    "                        \n",
    "                        date = date_filter[start:end]          \n",
    "                        chunks = [records[x:x+6] for x in range(0, len(records), 6)]\n",
    "                        \n",
    "                        for i in range(len(chunks)):\n",
    "                            col_date = str(date)+':'+chunks[i][0]\n",
    "                            chunks[i][0] = col_date\n",
    "                            \n",
    "                        data=pd.DataFrame(chunks)\n",
    "                        df = df.append(data)\n",
    "            \n",
    "            elif month_names[i] in (\"april\", \"june\", \"september\", \"november\"):\n",
    "                if month_names[i]==current_date[0].lower():\n",
    "                    \n",
    "                    for day in range(1,int(current_date[1])):\n",
    "                        file_html = open(\"Data/HTML_Data/{}/{}/{}.html\".format(year,mon,day),encoding='utf-8')\n",
    "                        plain_text = file_html.read()\n",
    "                        soup= BeautifulSoup(plain_text,\"lxml\")\n",
    "                        tables = soup.find_all(\"table\")\n",
    "                        my_tables = tables[1]\n",
    "                        rows = my_tables.find_all(['th', 'tr'])\n",
    "                        \n",
    "                        for row in rows:\n",
    "                            date_filter = soup.select(\".ndia\")\n",
    "                            date_filter = str(date_filter)\n",
    "                            start = re.search(\">\", date_filter).start()+1\n",
    "                            end = -6\n",
    "                            cells = row.findChildren('td')\n",
    "                            for cell in cells:\n",
    "                                value = cell.string\n",
    "                                #print(value)\n",
    "                                records.append(value)\n",
    "                        \n",
    "                        date = date_filter[start:end]  \n",
    "                        chunks = [records[x:x+6] for x in range(0, len(records), 6)]\n",
    "                        \n",
    "                        for i in range(len(chunks)):\n",
    "                            col_date = str(date)+':'+chunks[i][0]\n",
    "                            chunks[i][0] = col_date\n",
    "                            \n",
    "                        data=pd.DataFrame(chunks)\n",
    "                        df = df.append(data)\n",
    "                else:\n",
    "                    for day in range(1,31):\n",
    "                        file_html = open(\"Data/HTML_Data/{}/{}/{}.html\".format(year,mon,day),encoding='utf-8')\n",
    "                        plain_text = file_html.read()\n",
    "                        soup= BeautifulSoup(plain_text,\"lxml\")\n",
    "                        tables = soup.find_all(\"table\")\n",
    "                        my_tables = tables[1]\n",
    "                        rows = my_tables.find_all(['th', 'tr'])\n",
    "                        \n",
    "                        for row in rows:\n",
    "                            date_filter = soup.select(\".ndia\")\n",
    "                            date_filter = str(date_filter)\n",
    "                            start = re.search(\">\", date_filter).start()+1\n",
    "                            end = -6\n",
    "                            cells = row.findChildren('td')\n",
    "                            for cell in cells:\n",
    "                                value = cell.string\n",
    "                                #print(value)\n",
    "                                records.append(value)\n",
    "                        \n",
    "                        date = date_filter[start:end]  \n",
    "                        chunks = [records[x:x+6] for x in range(0, len(records), 6)]\n",
    "                        \n",
    "                        for i in range(len(chunks)):\n",
    "                            col_date = str(date)+':'+chunks[i][0]\n",
    "                            chunks[i][0] = col_date\n",
    "                            \n",
    "                        data=pd.DataFrame(chunks)\n",
    "                        df = df.append(data)\n",
    "                        \n",
    "            else:\n",
    "                if month_names[i]==current_date[0].lower():\n",
    "                    \n",
    "                    for day in range(1,int(current_date[1])):\n",
    "                        file_html = open(\"Data/HTML_Data/{}/{}/{}.html\".format(year,mon,day),encoding='utf-8')\n",
    "                        plain_text = file_html.read()\n",
    "                        soup= BeautifulSoup(plain_text,\"lxml\")\n",
    "                        tables = soup.find_all(\"table\")\n",
    "                        my_tables = tables[1]\n",
    "                        rows = my_tables.find_all(['th', 'tr'])\n",
    "                        \n",
    "                        for row in rows:\n",
    "                            date_filter = soup.select(\".ndia\")\n",
    "                            date_filter = str(date_filter)\n",
    "                            start = re.search(\">\", date_filter).start()+1\n",
    "                            end = -6\n",
    "                            cells = row.findChildren('td')\n",
    "                            for cell in cells:\n",
    "                                value = cell.string\n",
    "                                #print(value)\n",
    "                                records.append(value)\n",
    "                                \n",
    "                        date = date_filter[start:end]       \n",
    "                        chunks = [records[x:x+6] for x in range(0, len(records), 6)]\n",
    "                        \n",
    "                        for i in range(len(chunks)):\n",
    "                            col_date = str(date)+':'+chunks[i][0]\n",
    "                            chunks[i][0] = col_date\n",
    "                            \n",
    "                        data=pd.DataFrame(chunks)\n",
    "                        df = df.append(data)\n",
    "                else:\n",
    "                    for day in range(1,32):\n",
    "                        file_html = open(\"Data/HTML_Data/{}/{}/{}.html\".format(year,mon,day),encoding='utf-8')\n",
    "                        plain_text = file_html.read()\n",
    "                        soup= BeautifulSoup(plain_text,\"lxml\")\n",
    "                        tables = soup.find_all(\"table\")\n",
    "                        my_tables = tables[1]\n",
    "                        rows = my_tables.find_all(['th', 'tr'])\n",
    "                        \n",
    "                        for row in rows:\n",
    "                            date_filter = soup.select(\".ndia\")\n",
    "                            date_filter = str(date_filter)\n",
    "                            start = re.search(\">\", date_filter).start()+1\n",
    "                            end = -6\n",
    "                            cells = row.findChildren('td')\n",
    "                            for cell in cells:\n",
    "                                value = cell.string\n",
    "                                #print(value)\n",
    "                                records.append(value)\n",
    "                                \n",
    "                        date = date_filter[start:end]        \n",
    "                        chunks = [records[x:x+6] for x in range(0, len(records), 6)]\n",
    "                        \n",
    "                        for i in range(len(chunks)):\n",
    "                            col_date = str(date)+':'+chunks[i][0]\n",
    "                            chunks[i][0] = col_date\n",
    "                        \n",
    "                        data=pd.DataFrame(chunks)\n",
    "                        df = df.append(data)\n",
    "    return df"
   ]
  },
  {
   "cell_type": "code",
   "execution_count": 64,
   "metadata": {},
   "outputs": [],
   "source": [
    "df19 = html_to_csv(2019)"
   ]
  },
  {
   "cell_type": "code",
   "execution_count": 87,
   "metadata": {},
   "outputs": [],
   "source": [
    "#with open(\"Data/HTML_Data/2019/{}/{}.html\".format(mon,day),encoding='utf-8') as output:"
   ]
  },
  {
   "cell_type": "code",
   "execution_count": 65,
   "metadata": {},
   "outputs": [],
   "source": [
    "df = df19.copy()"
   ]
  },
  {
   "cell_type": "code",
   "execution_count": 66,
   "metadata": {},
   "outputs": [],
   "source": [
    "df.columns= [['Hour','Weather_Condition','Tem.','Wind','Hum','Presure']]"
   ]
  },
  {
   "cell_type": "code",
   "execution_count": 67,
   "metadata": {},
   "outputs": [
    {
     "data": {
      "text/html": [
       "<div>\n",
       "<style scoped>\n",
       "    .dataframe tbody tr th:only-of-type {\n",
       "        vertical-align: middle;\n",
       "    }\n",
       "\n",
       "    .dataframe tbody tr th {\n",
       "        vertical-align: top;\n",
       "    }\n",
       "\n",
       "    .dataframe thead tr th {\n",
       "        text-align: left;\n",
       "    }\n",
       "</style>\n",
       "<table border=\"1\" class=\"dataframe\">\n",
       "  <thead>\n",
       "    <tr>\n",
       "      <th></th>\n",
       "      <th>Hour</th>\n",
       "      <th>Weather_Condition</th>\n",
       "      <th>Tem.</th>\n",
       "      <th>Wind</th>\n",
       "      <th>Hum</th>\n",
       "      <th>Presure</th>\n",
       "    </tr>\n",
       "  </thead>\n",
       "  <tbody>\n",
       "    <tr>\n",
       "      <th>0</th>\n",
       "      <td>Tuesday 1 January 2019:00:00</td>\n",
       "      <td>Mist</td>\n",
       "      <td>13°</td>\n",
       "      <td>None</td>\n",
       "      <td>82%</td>\n",
       "      <td>1018 hPa</td>\n",
       "    </tr>\n",
       "    <tr>\n",
       "      <th>1</th>\n",
       "      <td>Tuesday 1 January 2019:00:30</td>\n",
       "      <td>Mist</td>\n",
       "      <td>13°</td>\n",
       "      <td>None</td>\n",
       "      <td>82%</td>\n",
       "      <td>1018 hPa</td>\n",
       "    </tr>\n",
       "    <tr>\n",
       "      <th>2</th>\n",
       "      <td>Tuesday 1 January 2019:01:00</td>\n",
       "      <td>Mist</td>\n",
       "      <td>12°</td>\n",
       "      <td>None</td>\n",
       "      <td>82%</td>\n",
       "      <td>1018 hPa</td>\n",
       "    </tr>\n",
       "    <tr>\n",
       "      <th>3</th>\n",
       "      <td>Tuesday 1 January 2019:01:30</td>\n",
       "      <td>Mist</td>\n",
       "      <td>12°</td>\n",
       "      <td>None</td>\n",
       "      <td>82%</td>\n",
       "      <td>1018 hPa</td>\n",
       "    </tr>\n",
       "    <tr>\n",
       "      <th>4</th>\n",
       "      <td>Tuesday 1 January 2019:02:30</td>\n",
       "      <td>Mist</td>\n",
       "      <td>12°</td>\n",
       "      <td>None</td>\n",
       "      <td>82%</td>\n",
       "      <td>1018 hPa</td>\n",
       "    </tr>\n",
       "  </tbody>\n",
       "</table>\n",
       "</div>"
      ],
      "text/plain": [
       "                           Hour Weather_Condition Tem.  Wind  Hum   Presure\n",
       "0  Tuesday 1 January 2019:00:00              Mist  13°  None  82%  1018 hPa\n",
       "1  Tuesday 1 January 2019:00:30              Mist  13°  None  82%  1018 hPa\n",
       "2  Tuesday 1 January 2019:01:00              Mist  12°  None  82%  1018 hPa\n",
       "3  Tuesday 1 January 2019:01:30              Mist  12°  None  82%  1018 hPa\n",
       "4  Tuesday 1 January 2019:02:30              Mist  12°  None  82%  1018 hPa"
      ]
     },
     "execution_count": 67,
     "metadata": {},
     "output_type": "execute_result"
    }
   ],
   "source": [
    "df.head()"
   ]
  },
  {
   "cell_type": "code",
   "execution_count": 69,
   "metadata": {},
   "outputs": [],
   "source": [
    "df.to_csv('2019_temp_details.csv')"
   ]
  },
  {
   "cell_type": "code",
   "execution_count": 70,
   "metadata": {},
   "outputs": [
    {
     "data": {
      "text/plain": [
       "'D:\\\\JUPYTER\\\\WebScrapping'"
      ]
     },
     "execution_count": 70,
     "metadata": {},
     "output_type": "execute_result"
    }
   ],
   "source": [
    "pwd"
   ]
  },
  {
   "cell_type": "code",
   "execution_count": null,
   "metadata": {},
   "outputs": [],
   "source": []
  }
 ],
 "metadata": {
  "kernelspec": {
   "display_name": "machinelearn",
   "language": "python",
   "name": "machinelearn"
  },
  "language_info": {
   "codemirror_mode": {
    "name": "ipython",
    "version": 3
   },
   "file_extension": ".py",
   "mimetype": "text/x-python",
   "name": "python",
   "nbconvert_exporter": "python",
   "pygments_lexer": "ipython3",
   "version": "3.7.0"
  }
 },
 "nbformat": 4,
 "nbformat_minor": 4
}
